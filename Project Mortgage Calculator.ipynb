{
 "cells": [
  {
   "cell_type": "raw",
   "id": "0814683b-0b31-483e-a6eb-344fedd75a69",
   "metadata": {},
   "source": [
    "Kelly upcoming entrepreneur setting up three factories coming month.\n",
    "she needs GHS 100000 but doesnt have that amount to begin the factories.\n",
    "She enters into an agreement with  banker, offer her a loan to proceed with her project.\n",
    "Kelly asks her banker the amount she has to pay each month to be able to settle the loan."
   ]
  },
  {
   "cell_type": "raw",
   "id": "1296ebee-53ac-4c90-bfb4-41f9bd6431d9",
   "metadata": {},
   "source": [
    "Loan Interest = 7.5% ; payment period 30 years; Principal amount 100000"
   ]
  },
  {
   "cell_type": "code",
   "execution_count": null,
   "id": "5958c5d2-e6ac-439f-8a93-ba82f3959610",
   "metadata": {},
   "outputs": [],
   "source": []
  },
  {
   "cell_type": "code",
   "execution_count": 15,
   "id": "7e335864-2988-4291-b804-069bbfa3736a",
   "metadata": {},
   "outputs": [
    {
     "name": "stdin",
     "output_type": "stream",
     "text": [
      "Enter Customer name:  Kelly\n"
     ]
    },
    {
     "name": "stdout",
     "output_type": "stream",
     "text": [
      "Hello Kelly, Welcome to Mali Bank!\n"
     ]
    },
    {
     "name": "stdin",
     "output_type": "stream",
     "text": [
      "Enter Principal amount: 100000\n",
      "Enter Interest Rate: 7.5\n",
      "Enter Payment Period: 30\n"
     ]
    },
    {
     "name": "stdout",
     "output_type": "stream",
     "text": [
      "===================================================================================\n",
      "For a 30.0 year mortgage loan of $ 100000.0 at an annual interest rate of 7.5 %, you pay:\n",
      "$ 699.21 monthly\n",
      "Total amount paid will be $ 251717.22\n",
      "Thank You for choosing Mali Bank. We strive to best serve you better!\n"
     ]
    }
   ],
   "source": [
    "#Welcome Message\n",
    "name = input(\"Enter Customer name: \")\n",
    "print('Hello', name + ', Welcome to Mali Bank!')\n",
    "\n",
    "#Enter principal amount,interest rate p.a and tenor period\n",
    "P = float(input(\"Enter Principal amount:\"))\n",
    "I = float(input(\"Enter Interest Rate:\"))\n",
    "N = float(input(\"Enter Payment Period:\"))\n",
    "\n",
    "#Display Interest rate and Payment period as monthly from p.a\n",
    "i_rate = I / (100 * 12)\n",
    "n_monthly = N * 12\n",
    "\n",
    "#Calculate Monthly Payment\n",
    "monthly_installment = (P * i_rate * ((1 + i_rate) ** n_monthly)) / (((1 + i_rate) ** n_monthly) - 1)\n",
    "\n",
    "#Calculate Total Loan Amount\n",
    "total_loan_amount = monthly_installment * n_monthly\n",
    "\n",
    "# Results\n",
    "print(\"===================================================================================\")\n",
    "print(\"For a\", N, \"year mortgage loan of $\", P, \"at an annual interest rate of\", I, \"%, you pay:\")\n",
    "print(\"$\", round(monthly_installment, 2), \"monthly\")\n",
    "print(\"Total amount paid will be $\", round(total_loan_amount, 2))\n",
    "print(\"Thank You for choosing Mali Bank. We strive to best serve you better!\")\n"
   ]
  },
  {
   "cell_type": "code",
   "execution_count": null,
   "id": "cec7d184-6153-41eb-9682-d324ae14bac6",
   "metadata": {},
   "outputs": [],
   "source": []
  }
 ],
 "metadata": {
  "kernelspec": {
   "display_name": "anaconda-2022.05-py39",
   "language": "python",
   "name": "conda-env-anaconda-2022.05-py39-py"
  },
  "language_info": {
   "codemirror_mode": {
    "name": "ipython",
    "version": 3
   },
   "file_extension": ".py",
   "mimetype": "text/x-python",
   "name": "python",
   "nbconvert_exporter": "python",
   "pygments_lexer": "ipython3",
   "version": "3.9.12"
  }
 },
 "nbformat": 4,
 "nbformat_minor": 5
}
